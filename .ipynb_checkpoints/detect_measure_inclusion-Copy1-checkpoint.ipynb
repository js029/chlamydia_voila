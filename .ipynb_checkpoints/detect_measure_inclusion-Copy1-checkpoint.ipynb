{
 "cells": [
  {
   "cell_type": "code",
   "execution_count": 1,
   "metadata": {},
   "outputs": [],
   "source": [
    "# import the necessary packages\n",
    "from scipy.spatial import distance as dist\n",
    "from imutils import contours, perspective, grab_contours\n",
    "import numpy as np\n",
    "import cv2\n",
    "import csv\n",
    "from pathlib import Path\n",
    "import ipywidgets as widgets\n",
    "import io\n",
    "from PIL import Image"
   ]
  },
  {
   "cell_type": "code",
   "execution_count": 2,
   "metadata": {},
   "outputs": [],
   "source": [
    "def measure_reference_object(ref, ref_length, dim = 'width'):\n",
    "    \n",
    "    # compute the rotated bounding box of the reference contour\n",
    "    box = cv2.minAreaRect(ref)\n",
    "    box = cv2.boxPoints(box)\n",
    "    box = np.array(box, dtype=\"int\")\n",
    "    \n",
    "    # order the points so that they appear in top-left, top-right,\n",
    "    # bottom-right, and bottom-left order\n",
    "    box = perspective.order_points(box)\n",
    "\n",
    "    # unpack the ordered bounding box, then compute heigth and width\n",
    "    (tl, tr, br, bl) = box\n",
    "    height = dist.euclidean(tl, bl)\n",
    "    width = dist.euclidean(tl, tr)\n",
    "\n",
    "\n",
    "    # compute pixels per metric\n",
    "    if dim == 'width':\n",
    "        return width / ref_length\n",
    "    elif dim == 'height':\n",
    "        return height / ref_length\n",
    "    else:\n",
    "        print('Invalid dimension flag. Default to width')\n",
    "        return width / ref_length"
   ]
  },
  {
   "cell_type": "code",
   "execution_count": 3,
   "metadata": {},
   "outputs": [],
   "source": [
    "def save_results(address, data):\n",
    "    # create or overwrite the results file\n",
    "    my_file = Path(address) \n",
    "\n",
    "    if my_file.is_file(): \n",
    "        with open(address, 'a+', newline='') as file: \n",
    "            writer = csv.writer(file) \n",
    "            writer.writerow([area]) \n",
    "    else: \n",
    "        with open(address, 'w', newline = '') as file: \n",
    "            writer = csv.writer(file) \n",
    "            writer.writerow([\"Area (microns2)\"])\n",
    "            writer.writerow([area]) "
   ]
  },
  {
   "cell_type": "code",
   "execution_count": 16,
   "metadata": {},
   "outputs": [],
   "source": [
    "def compute_contours(image):\n",
    "    \n",
    "    # convert image to grayscale, and blur it slightly\n",
    "    gray = cv2.cvtColor(image, cv2.COLOR_BGR2GRAY)\n",
    "    gray = cv2.GaussianBlur(gray, (7, 7), 0)\n",
    "    \n",
    "    # perform edge detection, then perform a dilation and erosion to\n",
    "    # close gaps in between object edges\n",
    "    edged = cv2.Canny(gray, 50, 100)\n",
    "    edged = cv2.dilate(edged, None, iterations=1)\n",
    "    edged = cv2.erode(edged, None, iterations=1)\n",
    "\n",
    "    # find contours in the edge map\n",
    "    cnts = cv2.findContours(edged.copy(), cv2.RETR_EXTERNAL, cv2.CHAIN_APPROX_SIMPLE)\n",
    "    cnts = grab_contours(cnts)\n",
    "    \n",
    "    return cnts"
   ]
  },
  {
   "cell_type": "code",
   "execution_count": 20,
   "metadata": {},
   "outputs": [],
   "source": [
    "image_address = 'images/colour/MAX_IncB ctr 30hrsZ2.lsm (RGB).jpg'\n",
    "results_address = 'results.csv'\n",
    "width = 10.0\n",
    "dim = 'width'\n",
    "visualisation = 1\n",
    "minimum_inclusion_size = 10.0"
   ]
  },
  {
   "cell_type": "code",
   "execution_count": 7,
   "metadata": {},
   "outputs": [
    {
     "data": {
      "application/vnd.jupyter.widget-view+json": {
       "model_id": "8b5cdcc0b064485aacf5c1068b1e2564",
       "version_major": 2,
       "version_minor": 0
      },
      "text/plain": [
       "FileUpload(value={}, accept='.jpg, .png', description='Upload', multiple=True)"
      ]
     },
     "metadata": {},
     "output_type": "display_data"
    }
   ],
   "source": [
    "uploader = widgets.FileUpload(accept='.jpg, .png', multiple=True)\n",
    "display(uploader)"
   ]
  },
  {
   "cell_type": "code",
   "execution_count": 17,
   "metadata": {},
   "outputs": [],
   "source": [
    "images = {}\n",
    "for name, file_info in uploader.value.items():\n",
    "    img = Image.open(io.BytesIO(file_info['content'])).convert('RGB')\n",
    "    open_cv_image = np.array(img) \n",
    "    open_cv_image = open_cv_image[:, :, ::-1].copy() # Convert RGB to BGR \n",
    "    images[name] = open_cv_image\n",
    "\n",
    "image = open_cv_image"
   ]
  },
  {
   "cell_type": "code",
   "execution_count": null,
   "metadata": {},
   "outputs": [],
   "source": [
    "# load the image, convert it to grayscale, and blur it slightly\n",
    "#image = cv2.imread(image_address)"
   ]
  },
  {
   "cell_type": "code",
   "execution_count": 18,
   "metadata": {},
   "outputs": [],
   "source": [
    "# process the image and find contours\n",
    "cnts = compute_contours(image)\n",
    "\n",
    "# sort the contours and calculate the 'pixels per metric' calibration variable\n",
    "(cnts, _) = contours.sort_contours(cnts, method=\"top-to-bottom\")\n",
    "pixelsPerMetric = measure_reference_object(cnts[0], width, dim)\n",
    "\n",
    "# drop the reference object\n",
    "#cnts = cnts[1:] - at the moment the reference object is recognised as 2 object so the first 2 are dropped\n",
    "cnts = cnts[2:]\n",
    "\n",
    "# calculate convex hull for each contour\n",
    "hulls = [cv2.convexHull(c) for c in cnts]"
   ]
  },
  {
   "cell_type": "code",
   "execution_count": 21,
   "metadata": {},
   "outputs": [],
   "source": [
    "# loop over the contours individually\n",
    "for c in hulls:\n",
    "    # if the contour is not sufficiently large, ignore it\n",
    "    # calibrated to reject anything smaller than 10 microns2\n",
    "    if cv2.contourArea(c) < np.power(pixelsPerMetric, 2) * minimum_inclusion_size:\n",
    "        continue\n",
    "\n",
    "    # skip visualisation\n",
    "    if visualisation == 0:\n",
    "        # save results in a csv file\n",
    "        save_results(results_address, area)\n",
    "        continue\n",
    "        \n",
    "    # draw the contours\n",
    "    orig = image.copy()\n",
    "    cv2.drawContours(orig, c, -1, (0, 0, 255), 4)\n",
    "    #cv2.fillPoly(orig, pts =[hull], color=(255,255,255))\n",
    "        \n",
    "    # convert pixel area to metric area\n",
    "    area = cv2.contourArea(c) / np.power(pixelsPerMetric, 2)\n",
    "    \n",
    "    bottommost = tuple(c[c[:,:,1].argmax()][0])\n",
    "    # add text on the image\n",
    "    cv2.putText(orig, \"{:.2f}microns2\".format(area), bottommost, cv2.FONT_HERSHEY_SIMPLEX,\n",
    "                0.65, (255, 255, 255), 2)\n",
    "    \n",
    "    # show the output image\n",
    "    cv2.imshow(\"Inclusions contours and areas\", orig)    \n",
    "    \n",
    "    # save results in a csv file\n",
    "    save_results(results_address, area)\n",
    "\n",
    "    cv2.waitKey(0)\n",
    "cv2.destroyAllWindows()"
   ]
  }
 ],
 "metadata": {
  "kernelspec": {
   "display_name": "Python 3",
   "language": "python",
   "name": "python3"
  },
  "language_info": {
   "codemirror_mode": {
    "name": "ipython",
    "version": 3
   },
   "file_extension": ".py",
   "mimetype": "text/x-python",
   "name": "python",
   "nbconvert_exporter": "python",
   "pygments_lexer": "ipython3",
   "version": "3.8.5"
  }
 },
 "nbformat": 4,
 "nbformat_minor": 4
}
